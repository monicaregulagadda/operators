{
 "cells": [
  {
   "cell_type": "code",
   "execution_count": null,
   "id": "e81418fa-e02c-43ca-81b9-5301cc5e7ffd",
   "metadata": {},
   "outputs": [],
   "source": []
  }
 ],
 "metadata": {
  "kernelspec": {
   "display_name": "",
   "name": ""
  },
  "language_info": {
   "name": ""
  }
 },
 "nbformat": 4,
 "nbformat_minor": 5
}
